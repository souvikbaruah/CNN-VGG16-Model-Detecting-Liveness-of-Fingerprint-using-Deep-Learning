{
  "nbformat": 4,
  "nbformat_minor": 0,
  "metadata": {
    "colab": {
      "name": "CNNVGG16.ipynb",
      "provenance": []
    },
    "kernelspec": {
      "name": "python3",
      "display_name": "Python 3"
    }
  },
  "cells": [
    {
      "cell_type": "code",
      "metadata": {
        "id": "y02MIYI_20y4",
        "colab_type": "code",
        "colab": {}
      },
      "source": [
        "#importing the libraries \n",
        "import keras,os \n",
        "from keras.models import Sequential,Model \n",
        "from keras.layers import Dense, Conv2D, MaxPool2D,Flatten \n",
        "from keras.preprocessing.image import ImageDataGenerator \n",
        "import numpy as np \n",
        "from PIL import Image, ImageFile \n",
        "ImageFile.LOAD_TRUNCATED_IMAGES = True"
      ],
      "execution_count": 0,
      "outputs": []
    },
    {
      "cell_type": "code",
      "metadata": {
        "id": "LN4F9aAT3Bz1",
        "colab_type": "code",
        "outputId": "878c0302-d305-4b6c-8afe-5b005e542992",
        "colab": {
          "base_uri": "https://localhost:8080/",
          "height": 34
        }
      },
      "source": [
        "#loading the dataset from Google Drive\n",
        "from google.colab import drive\n",
        "drive .mount('/content/drive')"
      ],
      "execution_count": 11,
      "outputs": [
        {
          "output_type": "stream",
          "text": [
            "Drive already mounted at /content/drive; to attempt to forcibly remount, call drive.mount(\"/content/drive\", force_remount=True).\n"
          ],
          "name": "stdout"
        }
      ]
    },
    {
      "cell_type": "code",
      "metadata": {
        "id": "uemlEoZ53QOd",
        "colab_type": "code",
        "colab": {}
      },
      "source": [
        "#loading and classifying data into train and test sets \n",
        "train_datagen=ImageDataGenerator(rescale=-1./255,shear_range=0.1,zoom_range=0.2,horizontal_flip=False) \n",
        "test_datagen=ImageDataGenerator(rescale=1./255)\n",
        "train_set=train_datagen.flow_from_directory(\"/content/drive/My Drive/MODEL1/Train\",target_size=(300,300),batch_size=16,class_mode='binary') \n",
        "test_set=test_datagen.flow_from_directory(\"/content/drive/My Drive/MODEL1/Test\",target_size=(300,300),batch_size=16,class_mode='binary')"
      ],
      "execution_count": 0,
      "outputs": []
    },
    {
      "cell_type": "code",
      "metadata": {
        "id": "hb8KtYyE3r_n",
        "colab_type": "code",
        "colab": {}
      },
      "source": [
        "#Designing compiling the CNN model \n",
        "model=Sequential() \n",
        "model.add(Conv2D(input_shape= (300,300,3),filters=64,kernel_size=(3,3),padding='same',activation='relu')) \n",
        "model.add(Conv2D(filters=64,kernel_size=(3,3),padding='same',activation='relu')) \n",
        "model.add(MaxPool2D(pool_size=(2,2)))\n",
        "\n",
        "model.add(Conv2D(filters=128,kernel_size=(3,3),padding='same',activation='relu')) \n",
        "model.add(Conv2D(filters=128,kernel_size=(3,3),padding='same',activation='relu')) \n",
        "model.add(MaxPool2D(pool_size=(2,2)))\n",
        "\n",
        "model.add(Conv2D(filters=256,kernel_size=(3,3),padding='same',activation='relu'))\n",
        "model.add(Conv2D(filters=256,kernel_size=(3,3),padding='same',activation='relu')) \n",
        "model.add(Conv2D(filters=256,kernel_size=(3,3),padding='same',activation='relu')) \n",
        "model.add(MaxPool2D(pool_size=(2,2)))\n",
        "\n",
        "model.add(Conv2D(filters=512,kernel_size=(3,3),padding='same',activation='relu')) \n",
        "model.add(Conv2D(filters=512,kernel_size=(3,3),padding='same',activation='relu')) \n",
        "model.add(Conv2D(filters=512,kernel_size=(3,3),padding='same',activation='relu')) \n",
        "model.add(MaxPool2D(pool_size=(2,2)))\n",
        "\n",
        "model.add(Flatten()) \n",
        "model.add(Dense(4096,activation='relu')) \n",
        "model.add(Dense(4096,activation='relu')) \n",
        "model.add(Dense(1,activation='sigmoid')) \n",
        "\n",
        "model.compile(loss='binary_crossentropy',optimizer='adam',metrics=['accuracy']) \n",
        "\n",
        "model.summary() \n",
        "\n",
        "from keras.callbacks import ModelCheckpoint,EarlyStopping \n",
        "checkpoint=ModelCheckpoint(\"vgg16_1.h5\",monitor='val_acc',verbose=1,save_best_only=True) \n",
        "early=EarlyStopping(monitor='val_acc',patience=20,verbose=1)"
      ],
      "execution_count": 0,
      "outputs": []
    },
    {
      "cell_type": "code",
      "metadata": {
        "id": "HIfYgZuB_fOk",
        "colab_type": "code",
        "colab": {}
      },
      "source": [
        "#fitting the model \n",
        "model.fit_generator(generator=train_set,validation_data=test_set,steps_per_epoch=100,epochs=100,validation_steps=10,callbacks=[checkpoint,early])"
      ],
      "execution_count": 0,
      "outputs": []
    }
  ]
}